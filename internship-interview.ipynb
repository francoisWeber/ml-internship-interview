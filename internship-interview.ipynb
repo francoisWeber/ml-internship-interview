{
 "cells": [
  {
   "cell_type": "code",
   "execution_count": 1,
   "id": "369873c6-b0b3-424d-8024-5ec11023a1fe",
   "metadata": {},
   "outputs": [],
   "source": [
    "import numpy as np\n",
    "import math as m\n",
    "from matplotlib import pyplot as plt"
   ]
  },
  {
   "cell_type": "markdown",
   "id": "a357958f-2a50-442b-9b68-2d7e391386bd",
   "metadata": {},
   "source": [
    "# Régression linéaire\n",
    "\n",
    "Passons en revu quelques technique d'estimation des paramètres d'une régression linéaire"
   ]
  },
  {
   "cell_type": "markdown",
   "id": "b23cf10f-e7d3-4efc-9fe1-f4002fae7c69",
   "metadata": {},
   "source": [
    "Génération de données d'exercice"
   ]
  },
  {
   "cell_type": "code",
   "execution_count": 27,
   "id": "c54bac66-b0ad-468a-b3ba-6021e766b442",
   "metadata": {},
   "outputs": [],
   "source": [
    "N_OBS = 1000\n",
    "N_FEATS = 4\n",
    "BETA = [42, 1, m.pi, m.e, (1+m.sqrt(5))/2]\n",
    "SIGMA = 0.3"
   ]
  },
  {
   "cell_type": "code",
   "execution_count": 3,
   "id": "1e7494a2-02ad-4bd7-a17b-1be86211ecca",
   "metadata": {},
   "outputs": [],
   "source": [
    "eps = np.random.normal(0, SIGMA, size=N_OBS)\n",
    "X = np.random.randn(N_OBS, N_FEATS)\n",
    "y = BETA[0] + BETA[1]*X[:, 0]  + BETA[2]*X[:, 1]  + BETA[3]*X[:, 2]  + BETA[4]*X[:, 3] + eps"
   ]
  },
  {
   "cell_type": "markdown",
   "id": "eb01e2c4-7a63-4620-8f80-a28de35460c6",
   "metadata": {},
   "source": [
    "# Bonne pratique :\n",
    "Certaines étapes sont récurrentes dans le traitement des problématiques ML. Une première étape souvent utile consiste à standardiser les données d'entraînement :"
   ]
  },
  {
   "cell_type": "code",
   "execution_count": null,
   "id": "92f64cf5-4858-4e86-aceb-c450152f219b",
   "metadata": {},
   "outputs": [],
   "source": [
    "from sklearn.preprocessing import ?\n",
    "\n",
    "? = ?.?(X)"
   ]
  },
  {
   "cell_type": "markdown",
   "id": "8fc12326-c7cc-49fc-9638-8d4b77139db4",
   "metadata": {},
   "source": [
    "Une autre étape, cruciale, est un passage méthodologique obligatoire:"
   ]
  },
  {
   "cell_type": "code",
   "execution_count": null,
   "id": "8286f767-f4e7-48b7-94fc-f6c8fd9b4a14",
   "metadata": {},
   "outputs": [],
   "source": [
    "from sklearn.model_selection import ?\n",
    "\n",
    "?, ?, ?, ? = ?(X, y)"
   ]
  },
  {
   "cell_type": "markdown",
   "id": "8883a834-2617-4d23-ba3b-4709a208caac",
   "metadata": {},
   "source": [
    "Puisque le but de l'exercice est de coder des méthode d'estimation, nous allons exceptionnellement continuer avec `(X, y)`"
   ]
  },
  {
   "cell_type": "markdown",
   "id": "e66861cf-ec18-4a9d-ab67-bf2dc8a1c980",
   "metadata": {},
   "source": [
    "# Un test avec sklearn\n",
    "\n",
    "Apprentissage d'une régression linéaire via ScikitLearn pour avoir une base"
   ]
  },
  {
   "cell_type": "code",
   "execution_count": 5,
   "id": "20a1b19a-76b1-45da-9698-c15895e83206",
   "metadata": {},
   "outputs": [],
   "source": [
    "from sklearn ?"
   ]
  },
  {
   "cell_type": "code",
   "execution_count": 9,
   "id": "fc0d68db-866f-4b81-a97c-ca73bf4cba8c",
   "metadata": {},
   "outputs": [],
   "source": [
    "# fit d'une regression \n",
    "lm = ?"
   ]
  },
  {
   "cell_type": "code",
   "execution_count": 11,
   "id": "d5cbb294-b70e-4d37-9786-8dcd3e8e89b3",
   "metadata": {},
   "outputs": [
    {
     "name": "stdout",
     "output_type": "stream",
     "text": [
      "Constante estimée : 41.98900277407211\n",
      "Coeffs estimés    : [1.0058881  3.15463999 2.72123358 1.62106606]\n"
     ]
    }
   ],
   "source": [
    "# affichage des coefficients estimés\n",
    "print(f\"Constante estimée : {lm.intercept_}\")\n",
    "print(f\"Coeffs estimés    : {lm.coef_}\")"
   ]
  },
  {
   "cell_type": "markdown",
   "id": "95e77ed3-5bd3-4761-a6f8-aeb1e66e5597",
   "metadata": {},
   "source": [
    "# Méthode d'estimation manuelle"
   ]
  },
  {
   "cell_type": "markdown",
   "id": "377977a5-7337-436e-9595-ee9217cbbec1",
   "metadata": {},
   "source": [
    "## Closed-form\n",
    "\n",
    "On rappelle que la closed-form de l'estimateur des coeffs de régression est \n",
    "$$\\hat{\\beta} = (X' \\cdot X)^{-1}X'y$$\n",
    "\n",
    "Réaliser l'opération matricielle pour obtenir directement l'estimateur des coefficients. Attention, on rappelle qu'il faut injecter une colonne de `1` à `X` pour estimer la constante (\"intercept\")"
   ]
  },
  {
   "cell_type": "code",
   "execution_count": 14,
   "id": "6838aac8-4648-46eb-a80f-e2e4731a7b3c",
   "metadata": {},
   "outputs": [],
   "source": [
    "Xc = np.concatenate((np.ones((N_OBS, 1)), X), axis=1)"
   ]
  },
  {
   "cell_type": "code",
   "execution_count": 22,
   "id": "39c805be-def5-4fca-9526-04b1f4e1ab90",
   "metadata": {},
   "outputs": [
    {
     "data": {
      "text/plain": [
       "array([41.98900277,  1.0058881 ,  3.15463999,  2.72123358,  1.62106606])"
      ]
     },
     "execution_count": 22,
     "metadata": {},
     "output_type": "execute_result"
    }
   ],
   "source": [
    "# passage en numpy de la closed-form:\n",
    "beta = ?"
   ]
  },
  {
   "cell_type": "markdown",
   "id": "b534e9fc-2a2d-40ea-a741-0b6a92f4bc7c",
   "metadata": {},
   "source": [
    "## Optimisation\n",
    "\n",
    "Une façon plus commune d'estimer beta est d'optimiser une fonction de coût qui mènera vers les bons paramètres. On rappelle que la fonction de coût en régression linéaire est l'erreur quadratique\n",
    "$$\\ell(\\beta) = \\| y - \\hat{y} \\|^2 = \\| y - \\beta x \\|^2$$\n",
    "et \n",
    "$$\\frac{\\partial \\ell}{\\partial \\beta}(\\beta)=2\\cdot x ( y - \\beta x )$$"
   ]
  },
  {
   "cell_type": "code",
   "execution_count": 87,
   "id": "6aaf91a8-27ee-452a-9b30-65660373bc8e",
   "metadata": {},
   "outputs": [],
   "source": [
    "from scipy.optimize import minimize"
   ]
  },
  {
   "cell_type": "code",
   "execution_count": 104,
   "id": "ef5fba75-d0bf-42f8-8639-c5f526ddfced",
   "metadata": {},
   "outputs": [],
   "source": [
    "def loss(beta) -> np.float32:\n",
    "    # Attention à bien utiliser Xc ici aussi pour ne pas rater l'intercept\n",
    "    return ?\n",
    "\n",
    "def loss_derivative(beta) -> np.array:\n",
    "    return (2 * Xc.T * (Xc.dot(beta) - y)).mean(axis=1)"
   ]
  },
  {
   "cell_type": "code",
   "execution_count": 105,
   "id": "e68dd29b-5d6f-457f-90a4-dee638014a82",
   "metadata": {},
   "outputs": [],
   "source": [
    "beta_init = np.array([1]*5)\n",
    "beta_opt = minimize(loss, beta_init, method=\"BFGS\", jac=loss_derivative)"
   ]
  },
  {
   "cell_type": "code",
   "execution_count": 106,
   "id": "8956ce57-0d89-4729-987a-39e39d6511c1",
   "metadata": {},
   "outputs": [
    {
     "name": "stdout",
     "output_type": "stream",
     "text": [
      "Success: True with beta=[41.98900262  1.00588822  3.15463994  2.72123566  1.62106664]\n"
     ]
    }
   ],
   "source": [
    "print(f\"Success: {beta_opt.success} with beta={beta_opt.x}\")"
   ]
  },
  {
   "cell_type": "code",
   "execution_count": null,
   "id": "3d5db6bc-ce43-4de5-8530-a384e5f9bae3",
   "metadata": {},
   "outputs": [],
   "source": []
  }
 ],
 "metadata": {
  "kernelspec": {
   "display_name": "qml",
   "language": "python",
   "name": "qml-3.9.12"
  },
  "language_info": {
   "codemirror_mode": {
    "name": "ipython",
    "version": 3
   },
   "file_extension": ".py",
   "mimetype": "text/x-python",
   "name": "python",
   "nbconvert_exporter": "python",
   "pygments_lexer": "ipython3",
   "version": "3.9.15"
  }
 },
 "nbformat": 4,
 "nbformat_minor": 5
}
